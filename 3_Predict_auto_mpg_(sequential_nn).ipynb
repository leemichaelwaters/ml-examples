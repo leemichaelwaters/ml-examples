{
  "nbformat": 4,
  "nbformat_minor": 0,
  "metadata": {
    "colab": {
      "name": "3. Predict auto mpg (sequential nn)",
      "provenance": [],
      "collapsed_sections": [],
      "authorship_tag": "ABX9TyMsB/OBGaIPiVRu2aEfFgFa",
      "include_colab_link": true
    },
    "kernelspec": {
      "name": "python3",
      "display_name": "Python 3"
    },
    "accelerator": "GPU"
  },
  "cells": [
    {
      "cell_type": "markdown",
      "metadata": {
        "id": "view-in-github",
        "colab_type": "text"
      },
      "source": [
        "<a href=\"https://colab.research.google.com/github/leemichaelwaters/ml-examples/blob/main/3_Predict_auto_mpg_(sequential_nn).ipynb\" target=\"_parent\"><img src=\"https://colab.research.google.com/assets/colab-badge.svg\" alt=\"Open In Colab\"/></a>"
      ]
    },
    {
      "cell_type": "markdown",
      "source": [
        "# Summary\n",
        "- Import auto data\n",
        "- EDA performed\n",
        "  - Dataset has 8 features and mpg label\n",
        "  - 1 feature dropped\n",
        "  - Null records removed\n",
        "  - One-hot encoding for categorical variables\n",
        "- Data split into training (80%) and testing (20%) sets\n",
        "- Standardize feature columns so that mean is zero and variance is one\n",
        "- Build sequential NN model in Keras with two densely connected hidden layers (32 neurons and ReLU activation function) and an output layer that returns a single, continuous value\n",
        "- Define loss function, optimizer, and metrics and compile NN model\n",
        "- Use 20% of training data for validation\n",
        "- Train NN model for 500 epochs witch batch size of 32\n",
        "- Plot training and validation loss progress with respect to epoch number\n",
        "- Optimize epoch number with respect to min validation loss\n",
        "- Use trained NN model to make predictions on test data and observe error\n",
        "- MAE of 1.75 meaning NN predicts MPG within +/- this value"
      ],
      "metadata": {
        "id": "Is6PHPHGkca0"
      }
    },
    {
      "cell_type": "markdown",
      "metadata": {
        "id": "LKzO3d1lOCb_"
      },
      "source": [
        "# Import data"
      ]
    },
    {
      "cell_type": "code",
      "metadata": {
        "id": "1wE7dOh-ODyw"
      },
      "source": [
        "import pandas as pd\n",
        "\n",
        "url = 'http://archive.ics.uci.edu/ml/machine-learning-databases/auto-mpg/auto-mpg.data'\n",
        "colNames = ['mpg', 'cylinders', 'displacement', 'horsepower', 'weight',\n",
        "            'acceleration', 'model', 'origin', 'car_name']\n",
        "auto = pd.read_csv(url, names=colNames, na_values='?', sep='\\s+')"
      ],
      "execution_count": null,
      "outputs": []
    },
    {
      "cell_type": "markdown",
      "source": [
        "# Exploratory data analysis"
      ],
      "metadata": {
        "id": "m0nrBbmnfrVf"
      }
    },
    {
      "cell_type": "code",
      "source": [
        "print('Shape:')\n",
        "print(auto.shape)\n",
        "\n",
        "print('')\n",
        "\n",
        "print('Head:')\n",
        "print(auto.head())\n",
        "\n",
        "print('')\n",
        "\n",
        "print('Info:')\n",
        "print(auto.info()) # 6 null values in horsepower"
      ],
      "metadata": {
        "colab": {
          "base_uri": "https://localhost:8080/"
        },
        "id": "WX4MnNRlfp6S",
        "outputId": "f2097242-f809-4eba-8a9b-f70b83c32e9e"
      },
      "execution_count": null,
      "outputs": [
        {
          "output_type": "stream",
          "name": "stdout",
          "text": [
            "Shape:\n",
            "(398, 9)\n",
            "\n",
            "Head:\n",
            "    mpg  cylinders  displacement  horsepower  weight  acceleration  model  \\\n",
            "0  18.0          8         307.0       130.0  3504.0          12.0     70   \n",
            "1  15.0          8         350.0       165.0  3693.0          11.5     70   \n",
            "2  18.0          8         318.0       150.0  3436.0          11.0     70   \n",
            "3  16.0          8         304.0       150.0  3433.0          12.0     70   \n",
            "4  17.0          8         302.0       140.0  3449.0          10.5     70   \n",
            "\n",
            "   origin                   car_name  \n",
            "0       1  chevrolet chevelle malibu  \n",
            "1       1          buick skylark 320  \n",
            "2       1         plymouth satellite  \n",
            "3       1              amc rebel sst  \n",
            "4       1                ford torino  \n",
            "\n",
            "Info:\n",
            "<class 'pandas.core.frame.DataFrame'>\n",
            "RangeIndex: 398 entries, 0 to 397\n",
            "Data columns (total 9 columns):\n",
            " #   Column        Non-Null Count  Dtype  \n",
            "---  ------        --------------  -----  \n",
            " 0   mpg           398 non-null    float64\n",
            " 1   cylinders     398 non-null    int64  \n",
            " 2   displacement  398 non-null    float64\n",
            " 3   horsepower    392 non-null    float64\n",
            " 4   weight        398 non-null    float64\n",
            " 5   acceleration  398 non-null    float64\n",
            " 6   model         398 non-null    int64  \n",
            " 7   origin        398 non-null    int64  \n",
            " 8   car_name      398 non-null    object \n",
            "dtypes: float64(5), int64(3), object(1)\n",
            "memory usage: 28.1+ KB\n",
            "None\n"
          ]
        }
      ]
    },
    {
      "cell_type": "code",
      "metadata": {
        "colab": {
          "base_uri": "https://localhost:8080/"
        },
        "id": "aXALy8FUOPLz",
        "outputId": "f2188469-6e1b-45de-c4ca-c30311ee8473"
      },
      "source": [
        "# Drop car name because irrelevant\n",
        "auto.drop(columns='car_name', inplace=True)\n",
        "\n",
        "# Drop records with nulls\n",
        "auto.dropna(inplace=True)\n",
        "\n",
        "# Confirm changes\n",
        "print('Shape:')\n",
        "print(auto.shape)\n",
        "\n",
        "print('')\n",
        "\n",
        "print('Head:')\n",
        "print(auto.head())\n",
        "\n",
        "print('')\n",
        "\n",
        "print('Info:')\n",
        "print(auto.info())"
      ],
      "execution_count": null,
      "outputs": [
        {
          "output_type": "stream",
          "name": "stdout",
          "text": [
            "Shape:\n",
            "(392, 8)\n",
            "\n",
            "Head:\n",
            "    mpg  cylinders  displacement  horsepower  weight  acceleration  model  \\\n",
            "0  18.0          8         307.0       130.0  3504.0          12.0     70   \n",
            "1  15.0          8         350.0       165.0  3693.0          11.5     70   \n",
            "2  18.0          8         318.0       150.0  3436.0          11.0     70   \n",
            "3  16.0          8         304.0       150.0  3433.0          12.0     70   \n",
            "4  17.0          8         302.0       140.0  3449.0          10.5     70   \n",
            "\n",
            "   origin  \n",
            "0       1  \n",
            "1       1  \n",
            "2       1  \n",
            "3       1  \n",
            "4       1  \n",
            "\n",
            "Info:\n",
            "<class 'pandas.core.frame.DataFrame'>\n",
            "Int64Index: 392 entries, 0 to 397\n",
            "Data columns (total 8 columns):\n",
            " #   Column        Non-Null Count  Dtype  \n",
            "---  ------        --------------  -----  \n",
            " 0   mpg           392 non-null    float64\n",
            " 1   cylinders     392 non-null    int64  \n",
            " 2   displacement  392 non-null    float64\n",
            " 3   horsepower    392 non-null    float64\n",
            " 4   weight        392 non-null    float64\n",
            " 5   acceleration  392 non-null    float64\n",
            " 6   model         392 non-null    int64  \n",
            " 7   origin        392 non-null    int64  \n",
            "dtypes: float64(5), int64(3)\n",
            "memory usage: 27.6 KB\n",
            "None\n"
          ]
        }
      ]
    },
    {
      "cell_type": "code",
      "metadata": {
        "colab": {
          "base_uri": "https://localhost:8080/"
        },
        "id": "HWWdkLTDPlgg",
        "outputId": "080666f8-32a7-45be-9719-0f0f7e500e0f"
      },
      "source": [
        "# One-hot encoding\n",
        "origin_oh = pd.get_dummies(auto.origin, prefix='origin')\n",
        "auto = pd.concat([auto, origin_oh], axis=1)\n",
        "auto.drop(columns='origin', inplace=True)\n",
        "\n",
        "# Confirm changes\n",
        "print('Shape:')\n",
        "print(auto.shape)\n",
        "\n",
        "print('')\n",
        "\n",
        "print('Head:')\n",
        "print(auto.head())\n",
        "\n",
        "print('')\n",
        "\n",
        "print('Info:')\n",
        "print(auto.info())"
      ],
      "execution_count": null,
      "outputs": [
        {
          "output_type": "stream",
          "name": "stdout",
          "text": [
            "Shape:\n",
            "(392, 10)\n",
            "\n",
            "Head:\n",
            "    mpg  cylinders  displacement  horsepower  weight  acceleration  model  \\\n",
            "0  18.0          8         307.0       130.0  3504.0          12.0     70   \n",
            "1  15.0          8         350.0       165.0  3693.0          11.5     70   \n",
            "2  18.0          8         318.0       150.0  3436.0          11.0     70   \n",
            "3  16.0          8         304.0       150.0  3433.0          12.0     70   \n",
            "4  17.0          8         302.0       140.0  3449.0          10.5     70   \n",
            "\n",
            "   origin_1  origin_2  origin_3  \n",
            "0         1         0         0  \n",
            "1         1         0         0  \n",
            "2         1         0         0  \n",
            "3         1         0         0  \n",
            "4         1         0         0  \n",
            "\n",
            "Info:\n",
            "<class 'pandas.core.frame.DataFrame'>\n",
            "Int64Index: 392 entries, 0 to 397\n",
            "Data columns (total 10 columns):\n",
            " #   Column        Non-Null Count  Dtype  \n",
            "---  ------        --------------  -----  \n",
            " 0   mpg           392 non-null    float64\n",
            " 1   cylinders     392 non-null    int64  \n",
            " 2   displacement  392 non-null    float64\n",
            " 3   horsepower    392 non-null    float64\n",
            " 4   weight        392 non-null    float64\n",
            " 5   acceleration  392 non-null    float64\n",
            " 6   model         392 non-null    int64  \n",
            " 7   origin_1      392 non-null    uint8  \n",
            " 8   origin_2      392 non-null    uint8  \n",
            " 9   origin_3      392 non-null    uint8  \n",
            "dtypes: float64(5), int64(2), uint8(3)\n",
            "memory usage: 25.6 KB\n",
            "None\n"
          ]
        }
      ]
    },
    {
      "cell_type": "markdown",
      "source": [
        "# Train and test model"
      ],
      "metadata": {
        "id": "SqVIJ_pCgNey"
      }
    },
    {
      "cell_type": "code",
      "metadata": {
        "colab": {
          "base_uri": "https://localhost:8080/"
        },
        "id": "3B9hPDEcP3U8",
        "outputId": "10b35c0f-3efd-4bb4-fd66-0424e8406fc7"
      },
      "source": [
        "# Import packages\n",
        "from sklearn.model_selection import train_test_split\n",
        "\n",
        "# Define features and labels\n",
        "X = auto.drop(columns='mpg')\n",
        "y = auto['mpg']\n",
        "\n",
        "# Train test split\n",
        "Xtrain, Xtest, ytrain, ytest = train_test_split(X, y, random_state=42, test_size=.2)\n",
        "\n",
        "print('Shapes:')\n",
        "print(Xtrain.shape, Xtest.shape, ytrain.shape, ytest.shape)"
      ],
      "execution_count": null,
      "outputs": [
        {
          "output_type": "stream",
          "name": "stdout",
          "text": [
            "Shapes:\n",
            "(313, 9) (79, 9) (313,) (79,)\n"
          ]
        }
      ]
    },
    {
      "cell_type": "code",
      "metadata": {
        "colab": {
          "base_uri": "https://localhost:8080/"
        },
        "id": "5M16CFwbQuNj",
        "outputId": "7be91e69-95a4-4d4b-f1e7-bb0141eea10a"
      },
      "source": [
        "# Import packages\n",
        "from sklearn import preprocessing\n",
        "\n",
        "# Standardize data\n",
        "colNames = list(Xtrain.columns)\n",
        "\n",
        "print('Describe Xtrain, Xtest:')\n",
        "print(Xtrain.describe(), Xtest.describe())                                      # data pre-standardization\n",
        "\n",
        "scaler = preprocessing.StandardScaler().fit(Xtrain)                             # compute mean and sd of Xtrain\n",
        "Xtrain = scaler.transform(Xtrain)\n",
        "Xtest = scaler.transform(Xtest)\n",
        "\n",
        "Xtrain = pd.DataFrame(Xtrain, columns=colNames)                                 \n",
        "Xtest = pd.DataFrame(Xtest, columns=colNames)\n",
        "\n",
        "print('')\n",
        "\n",
        "print('Describe Xtrain, Xtest:')\n",
        "print(Xtrain.describe(), Xtest.describe())                                      # train/test sets post-standardization"
      ],
      "execution_count": null,
      "outputs": [
        {
          "output_type": "stream",
          "name": "stdout",
          "text": [
            "Describe Xtrain, Xtest:\n",
            "        cylinders  displacement  horsepower       weight  acceleration  \\\n",
            "count  313.000000    313.000000  313.000000   313.000000    313.000000   \n",
            "mean     5.482428    195.517572  104.594249  2986.124601     15.544089   \n",
            "std      1.700446    103.766567   38.283669   841.133957      2.817864   \n",
            "min      3.000000     70.000000   46.000000  1613.000000      8.000000   \n",
            "25%      4.000000    105.000000   76.000000  2234.000000     13.500000   \n",
            "50%      4.000000    151.000000   95.000000  2855.000000     15.500000   \n",
            "75%      8.000000    302.000000  129.000000  3645.000000     17.300000   \n",
            "max      8.000000    455.000000  230.000000  5140.000000     24.800000   \n",
            "\n",
            "            model    origin_1    origin_2    origin_3  \n",
            "count  313.000000  313.000000  313.000000  313.000000  \n",
            "mean    76.207668    0.645367    0.153355    0.201278  \n",
            "std      3.630136    0.479168    0.360906    0.401597  \n",
            "min     70.000000    0.000000    0.000000    0.000000  \n",
            "25%     73.000000    0.000000    0.000000    0.000000  \n",
            "50%     76.000000    1.000000    0.000000    0.000000  \n",
            "75%     79.000000    1.000000    0.000000    0.000000  \n",
            "max     82.000000    1.000000    1.000000    1.000000          cylinders  displacement  horsepower       weight  acceleration  \\\n",
            "count  79.000000     79.000000   79.000000    79.000000      79.00000   \n",
            "mean    5.430380    190.031646  103.974684  2943.746835      15.53038   \n",
            "std     1.737103    108.618078   39.547107   886.112678       2.52837   \n",
            "min     3.000000     68.000000   46.000000  1800.000000       8.50000   \n",
            "25%     4.000000     97.750000   75.000000  2180.000000      14.10000   \n",
            "50%     4.000000    140.000000   90.000000  2720.000000      15.50000   \n",
            "75%     8.000000    261.000000  120.000000  3452.000000      16.70000   \n",
            "max     8.000000    455.000000  225.000000  4951.000000      24.60000   \n",
            "\n",
            "           model   origin_1   origin_2   origin_3  \n",
            "count  79.000000  79.000000  79.000000  79.000000  \n",
            "mean   75.075949   0.544304   0.253165   0.202532  \n",
            "std     3.778387   0.501216   0.437603   0.404454  \n",
            "min    70.000000   0.000000   0.000000   0.000000  \n",
            "25%    72.000000   0.000000   0.000000   0.000000  \n",
            "50%    74.000000   1.000000   0.000000   0.000000  \n",
            "75%    78.000000   1.000000   0.500000   0.000000  \n",
            "max    82.000000   1.000000   1.000000   1.000000  \n",
            "\n",
            "Describe Xtrain, Xtest:\n",
            "          cylinders  displacement    horsepower        weight  acceleration  \\\n",
            "count  3.130000e+02  3.130000e+02  3.130000e+02  3.130000e+02  3.130000e+02   \n",
            "mean  -4.469268e-17  3.830801e-17 -1.191805e-16  2.468739e-16  5.242523e-16   \n",
            "std    1.001601e+00  1.001601e+00  1.001601e+00  1.001601e+00  1.001601e+00   \n",
            "min   -1.462206e+00 -1.211552e+00 -1.532979e+00 -1.635082e+00 -2.681524e+00   \n",
            "25%   -8.731837e-01 -8.737161e-01 -7.481006e-01 -8.956112e-01 -7.265654e-01   \n",
            "50%   -8.731837e-01 -4.297035e-01 -2.510107e-01 -1.561399e-01 -1.567146e-02   \n",
            "75%    1.482907e+00  1.027816e+00  6.385185e-01  7.845723e-01  6.241331e-01   \n",
            "max    1.482907e+00  2.504640e+00  3.280944e+00  2.564781e+00  3.289986e+00   \n",
            "\n",
            "              model      origin_1      origin_2      origin_3  \n",
            "count  3.130000e+02  3.130000e+02  3.130000e+02  3.130000e+02  \n",
            "mean  -1.787353e-15  1.624544e-16 -7.626133e-17 -7.874425e-17  \n",
            "std    1.001601e+00  1.001601e+00  1.001601e+00  1.001601e+00  \n",
            "min   -1.712775e+00 -1.349007e+00 -4.255961e-01 -5.019960e-01  \n",
            "25%   -8.850368e-01 -1.349007e+00 -4.255961e-01 -5.019960e-01  \n",
            "50%   -5.729820e-02  7.412860e-01 -4.255961e-01 -5.019960e-01  \n",
            "75%    7.704404e-01  7.412860e-01 -4.255961e-01 -5.019960e-01  \n",
            "max    1.598179e+00  7.412860e-01  2.349645e+00  1.992048e+00          cylinders  displacement  horsepower     weight  acceleration  \\\n",
            "count  79.000000     79.000000   79.000000  79.000000     79.000000   \n",
            "mean   -0.030658     -0.052953   -0.016209  -0.050462     -0.004873   \n",
            "std     1.023193      1.048430    1.034656   1.055161      0.898702   \n",
            "min    -1.462206     -1.230857   -1.532979  -1.412408     -2.503800   \n",
            "25%    -0.873184     -0.943696   -0.774263  -0.959913     -0.513297   \n",
            "50%    -0.873184     -0.535880   -0.381824  -0.316895     -0.015671   \n",
            "75%     1.482907      0.632066    0.403055   0.554753      0.410865   \n",
            "max     1.482907      2.504640    3.150131   2.339724      3.218896   \n",
            "\n",
            "           model   origin_1   origin_2   origin_3  \n",
            "count  79.000000  79.000000  79.000000  79.000000  \n",
            "mean   -0.312256  -0.211253   0.276997   0.003127  \n",
            "std     1.042506   1.047688   1.214454   1.008727  \n",
            "min    -1.712775  -1.349007  -0.425596  -0.501996  \n",
            "25%    -1.160950  -1.349007  -0.425596  -0.501996  \n",
            "50%    -0.609124   0.741286  -0.425596  -0.501996  \n",
            "75%     0.494528   0.741286   0.962025  -0.501996  \n",
            "max     1.598179   0.741286   2.349645   1.992048  \n"
          ]
        }
      ]
    },
    {
      "cell_type": "code",
      "metadata": {
        "colab": {
          "base_uri": "https://localhost:8080/"
        },
        "id": "MNcgi-cLJenZ",
        "outputId": "10a0f77c-a9da-4d55-919e-cbdd7aa10633"
      },
      "source": [
        "# Convert data from pd to np\n",
        "\n",
        "print('Types:')\n",
        "print(type(Xtrain), type(Xtest), type(ytrain), type(ytest))\n",
        "\n",
        "Xtrain = Xtrain.to_numpy()\n",
        "Xtest = Xtest.to_numpy()\n",
        "ytrain = ytrain.to_numpy()\n",
        "ytest = ytest.to_numpy()\n",
        "\n",
        "print('')\n",
        "\n",
        "print('Types:')\n",
        "print(type(Xtrain), type(Xtest), type(ytrain), type(ytest))"
      ],
      "execution_count": null,
      "outputs": [
        {
          "output_type": "stream",
          "name": "stdout",
          "text": [
            "Types:\n",
            "<class 'pandas.core.frame.DataFrame'> <class 'pandas.core.frame.DataFrame'> <class 'pandas.core.series.Series'> <class 'pandas.core.series.Series'>\n",
            "\n",
            "Types:\n",
            "<class 'numpy.ndarray'> <class 'numpy.ndarray'> <class 'numpy.ndarray'> <class 'numpy.ndarray'>\n"
          ]
        }
      ]
    },
    {
      "cell_type": "code",
      "metadata": {
        "id": "l4qNN-COUaCt",
        "colab": {
          "base_uri": "https://localhost:8080/"
        },
        "outputId": "c8357685-f18f-4025-84e5-f81d6efba36a"
      },
      "source": [
        "# Import packages\n",
        "from tensorflow.keras import models\n",
        "from tensorflow.keras import layers\n",
        "\n",
        "# Build neural network\n",
        "model = models.Sequential()\n",
        "model.add(layers.Dense(32, activation='relu', input_shape=(9,)))\n",
        "model.add(layers.Dense(32, activation='relu'))\n",
        "model.add(layers.Dense(1))\n",
        "\n",
        "print(model.summary())"
      ],
      "execution_count": null,
      "outputs": [
        {
          "output_type": "stream",
          "name": "stdout",
          "text": [
            "Model: \"sequential_1\"\n",
            "_________________________________________________________________\n",
            " Layer (type)                Output Shape              Param #   \n",
            "=================================================================\n",
            " dense_3 (Dense)             (None, 32)                320       \n",
            "                                                                 \n",
            " dense_4 (Dense)             (None, 32)                1056      \n",
            "                                                                 \n",
            " dense_5 (Dense)             (None, 1)                 33        \n",
            "                                                                 \n",
            "=================================================================\n",
            "Total params: 1,409\n",
            "Trainable params: 1,409\n",
            "Non-trainable params: 0\n",
            "_________________________________________________________________\n",
            "None\n"
          ]
        }
      ]
    },
    {
      "cell_type": "code",
      "metadata": {
        "id": "5CScBd-P2h1D"
      },
      "source": [
        "# Compile model\n",
        "model.compile(optimizer='rmsprop',\n",
        "              loss='mse',\n",
        "              metrics=['mae'])"
      ],
      "execution_count": null,
      "outputs": []
    },
    {
      "cell_type": "code",
      "metadata": {
        "colab": {
          "base_uri": "https://localhost:8080/",
          "height": 295
        },
        "id": "o36t9VTr383X",
        "outputId": "9a03d4bc-3045-4516-9752-91cfa9b4806f"
      },
      "source": [
        "# Import packages \n",
        "import matplotlib.pyplot as plt\n",
        "\n",
        "# Fit model\n",
        "history = model.fit(Xtrain, ytrain,\n",
        "                    epochs=500,\n",
        "                    batch_size=32,\n",
        "                    validation_split=0.2,\n",
        "                    verbose=0)\n",
        "\n",
        "# Define training and validation losses\n",
        "loss = history.history['loss']\n",
        "val_loss = history.history['val_loss']\n",
        "\n",
        "epochs = range(1, len(loss) + 1)\n",
        "\n",
        "# Plot loss cuves\n",
        "plt.plot(epochs, loss, 'bo', label='Training loss')                             # \"bo\" is for \"blue dot\"\n",
        "plt.plot(epochs, val_loss, 'b', label='Validation loss')                        # b is for \"solid blue line\"\n",
        "plt.title('Training and validation loss')\n",
        "plt.xlabel('Epochs')\n",
        "plt.ylabel('Loss')\n",
        "plt.legend()\n",
        "\n",
        "plt.show()"
      ],
      "execution_count": null,
      "outputs": [
        {
          "output_type": "display_data",
          "data": {
            "text/plain": [
              "<Figure size 432x288 with 1 Axes>"
            ],
            "image/png": "[encoded data removed]"
          },
          "metadata": {
            "needs_background": "light"
          }
        }
      ]
    },
    {
      "cell_type": "code",
      "metadata": {
        "id": "_qY7YyGu6ryb",
        "colab": {
          "base_uri": "https://localhost:8080/"
        },
        "outputId": "146adb1b-8c0b-4616-c710-d1deb7ac08ce"
      },
      "source": [
        "# Import packages\n",
        "import numpy as np\n",
        "\n",
        "# Test model \n",
        "model.fit(Xtrain, ytrain, epochs=np.argmin(val_loss), batch_size=32, verbose = 0)\n",
        "results = model.evaluate(Xtest, ytest)\n",
        "\n",
        "results"
      ],
      "execution_count": null,
      "outputs": [
        {
          "output_type": "stream",
          "name": "stdout",
          "text": [
            "3/3 [==============================] - 0s 5ms/step - loss: 6.0156 - mae: 1.7359\n"
          ]
        },
        {
          "output_type": "execute_result",
          "data": {
            "text/plain": [
              "[6.015561580657959, 1.735878825187683]"
            ]
          },
          "metadata": {},
          "execution_count": 27
        }
      ]
    }
  ]
}