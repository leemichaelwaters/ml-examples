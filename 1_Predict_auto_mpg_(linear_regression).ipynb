{
  "nbformat": 4,
  "nbformat_minor": 0,
  "metadata": {
    "colab": {
      "name": "1. Predict auto mpg (linear regression)",
      "provenance": [],
      "collapsed_sections": [],
      "authorship_tag": "ABX9TyOahexkT6eRQxhAcmAbBlzN",
      "include_colab_link": true
    },
    "kernelspec": {
      "name": "python3",
      "display_name": "Python 3"
    },
    "language_info": {
      "name": "python"
    }
  },
  "cells": [
    {
      "cell_type": "markdown",
      "metadata": {
        "id": "view-in-github",
        "colab_type": "text"
      },
      "source": [
        "<a href=\"https://colab.research.google.com/github/leemichaelwaters/ml-examples/blob/main/1_Predict_auto_mpg_(linear_regression).ipynb\" target=\"_parent\"><img src=\"https://colab.research.google.com/assets/colab-badge.svg\" alt=\"Open In Colab\"/></a>"
      ]
    },
    {
      "cell_type": "markdown",
      "source": [
        "# Summary\n",
        "- Import auto data\n",
        "- EDA performed\n",
        "  - Dataset has 8 features and mpg label\n",
        "  - 1 feature dropped\n",
        "  - Null horsepower replaced with mean\n",
        "  - One-hot encoding for categorical variables\n",
        "- Data split into training (80%) and testing (20%) sets\n",
        "- Fit linear regression to training data\n",
        "- Model used to generate predictions on test data\n",
        "- Mean squared error of predictions is 8.3\n",
        "- Each prediction is approximately +/- 3 mpg off target"
      ],
      "metadata": {
        "id": "YqpjssJiMxy_"
      }
    },
    {
      "cell_type": "markdown",
      "source": [
        "# Import data"
      ],
      "metadata": {
        "id": "CWx1gRklAx1t"
      }
    },
    {
      "cell_type": "code",
      "metadata": {
        "id": "mXkKoMdrw4Gx"
      },
      "source": [
        "import pandas as pd\n",
        "\n",
        "url = 'http://archive.ics.uci.edu/ml/machine-learning-databases/auto-mpg/auto-mpg.data'\n",
        "colNames = ['mpg', 'cylinders', 'displacement', 'horsepower', 'weight',\n",
        "            'acceleration', 'model', 'origin', 'car_name']\n",
        "auto = pd.read_csv(url, names=colNames, na_values='?', sep='\\s+')"
      ],
      "execution_count": null,
      "outputs": []
    },
    {
      "cell_type": "markdown",
      "source": [
        "# Exploratory data analysis"
      ],
      "metadata": {
        "id": "jity26mQBFfB"
      }
    },
    {
      "cell_type": "code",
      "source": [
        "# Initial view of data\n",
        "print('Shape:')\n",
        "print(auto.shape)\n",
        "\n",
        "print('')\n",
        "\n",
        "print('Head:')\n",
        "print(auto.head())"
      ],
      "metadata": {
        "colab": {
          "base_uri": "https://localhost:8080/"
        },
        "id": "gPj6DRaCBKfZ",
        "outputId": "13c8793f-a301-497b-f666-18a5c1951488"
      },
      "execution_count": null,
      "outputs": [
        {
          "output_type": "stream",
          "name": "stdout",
          "text": [
            "Shape:\n",
            "(398, 9)\n",
            "\n",
            "Head:\n",
            "    mpg  cylinders  displacement  horsepower  weight  acceleration  model  \\\n",
            "0  18.0          8         307.0       130.0  3504.0          12.0     70   \n",
            "1  15.0          8         350.0       165.0  3693.0          11.5     70   \n",
            "2  18.0          8         318.0       150.0  3436.0          11.0     70   \n",
            "3  16.0          8         304.0       150.0  3433.0          12.0     70   \n",
            "4  17.0          8         302.0       140.0  3449.0          10.5     70   \n",
            "\n",
            "   origin                   car_name  \n",
            "0       1  chevrolet chevelle malibu  \n",
            "1       1          buick skylark 320  \n",
            "2       1         plymouth satellite  \n",
            "3       1              amc rebel sst  \n",
            "4       1                ford torino  \n"
          ]
        }
      ]
    },
    {
      "cell_type": "code",
      "metadata": {
        "colab": {
          "base_uri": "https://localhost:8080/"
        },
        "id": "RRsLC9b02vlt",
        "outputId": "2fb759d4-b92e-460a-e452-2a268199861c"
      },
      "source": [
        "# Drop car name because irrelevant\n",
        "auto.drop(columns='car_name', inplace=True)\n",
        "\n",
        "# Check for nulls\n",
        "print('Info:')\n",
        "print(auto.info()) # 6 null values in horsepower"
      ],
      "execution_count": null,
      "outputs": [
        {
          "output_type": "stream",
          "name": "stdout",
          "text": [
            "Info:\n",
            "<class 'pandas.core.frame.DataFrame'>\n",
            "RangeIndex: 398 entries, 0 to 397\n",
            "Data columns (total 8 columns):\n",
            " #   Column        Non-Null Count  Dtype  \n",
            "---  ------        --------------  -----  \n",
            " 0   mpg           398 non-null    float64\n",
            " 1   cylinders     398 non-null    int64  \n",
            " 2   displacement  398 non-null    float64\n",
            " 3   horsepower    392 non-null    float64\n",
            " 4   weight        398 non-null    float64\n",
            " 5   acceleration  398 non-null    float64\n",
            " 6   model         398 non-null    int64  \n",
            " 7   origin        398 non-null    int64  \n",
            "dtypes: float64(5), int64(3)\n",
            "memory usage: 25.0 KB\n",
            "None\n"
          ]
        }
      ]
    },
    {
      "cell_type": "code",
      "metadata": {
        "colab": {
          "base_uri": "https://localhost:8080/"
        },
        "id": "_9GlyLXVRgGn",
        "outputId": "be953ebf-714e-4482-dc54-8248debfc068"
      },
      "source": [
        "# Replace null horsepower with mean\n",
        "auto.fillna(auto['horsepower'].mean(), inplace = True)\n",
        "\n",
        "# Re-check for nulls\n",
        "print('Info:')\n",
        "print(auto.info()) # no null values"
      ],
      "execution_count": null,
      "outputs": [
        {
          "output_type": "stream",
          "name": "stdout",
          "text": [
            "Info:\n",
            "<class 'pandas.core.frame.DataFrame'>\n",
            "RangeIndex: 398 entries, 0 to 397\n",
            "Data columns (total 8 columns):\n",
            " #   Column        Non-Null Count  Dtype  \n",
            "---  ------        --------------  -----  \n",
            " 0   mpg           398 non-null    float64\n",
            " 1   cylinders     398 non-null    int64  \n",
            " 2   displacement  398 non-null    float64\n",
            " 3   horsepower    398 non-null    float64\n",
            " 4   weight        398 non-null    float64\n",
            " 5   acceleration  398 non-null    float64\n",
            " 6   model         398 non-null    int64  \n",
            " 7   origin        398 non-null    int64  \n",
            "dtypes: float64(5), int64(3)\n",
            "memory usage: 25.0 KB\n",
            "None\n"
          ]
        }
      ]
    },
    {
      "cell_type": "code",
      "metadata": {
        "colab": {
          "base_uri": "https://localhost:8080/"
        },
        "id": "I297UouvcOz1",
        "outputId": "50a79cae-5237-4032-a272-dfdbf5342edd"
      },
      "source": [
        "# One-hot encoding of categorical variables\n",
        "origin_oh = pd.get_dummies(auto.origin, prefix='origin')\n",
        "auto = pd.concat([auto, origin_oh], axis=1)\n",
        "auto.drop(columns='origin', inplace=True)\n",
        "\n",
        "print('Head:')\n",
        "print(auto.head())"
      ],
      "execution_count": null,
      "outputs": [
        {
          "output_type": "stream",
          "name": "stdout",
          "text": [
            "Head:\n",
            "    mpg  cylinders  displacement  horsepower  weight  acceleration  model  \\\n",
            "0  18.0          8         307.0       130.0  3504.0          12.0     70   \n",
            "1  15.0          8         350.0       165.0  3693.0          11.5     70   \n",
            "2  18.0          8         318.0       150.0  3436.0          11.0     70   \n",
            "3  16.0          8         304.0       150.0  3433.0          12.0     70   \n",
            "4  17.0          8         302.0       140.0  3449.0          10.5     70   \n",
            "\n",
            "   origin_1  origin_2  origin_3  \n",
            "0         1         0         0  \n",
            "1         1         0         0  \n",
            "2         1         0         0  \n",
            "3         1         0         0  \n",
            "4         1         0         0  \n"
          ]
        }
      ]
    },
    {
      "cell_type": "markdown",
      "source": [
        "# Train and test model"
      ],
      "metadata": {
        "id": "QnXOj-jTCYdM"
      }
    },
    {
      "cell_type": "code",
      "metadata": {
        "colab": {
          "base_uri": "https://localhost:8080/"
        },
        "id": "eErfYAjIf2qT",
        "outputId": "4d998683-7956-4773-ea33-7bff6431c041"
      },
      "source": [
        "# Import packages\n",
        "from sklearn.linear_model import LinearRegression\n",
        "from sklearn.model_selection import train_test_split\n",
        "from sklearn.metrics import mean_squared_error\n",
        "\n",
        "# Define model\n",
        "model = LinearRegression(fit_intercept=True)                                    # y-intercept not set to 0\n",
        "\n",
        "# Define features, labels\n",
        "X = auto.drop(columns='mpg')\n",
        "y = auto['mpg']\n",
        "\n",
        "# Train/test split\n",
        "Xtrain, Xtest, ytrain, ytest = train_test_split(X, y, random_state=42, test_size=.2)\n",
        "print('Xtrain, Xtest, ytrain, ytest:')\n",
        "print(Xtrain.shape, Xtest.shape, ytrain.shape, ytest.shape)\n",
        "\n",
        "print('')\n",
        "\n",
        "# Fit model\n",
        "model.fit(Xtrain, ytrain)\n",
        "print('Model coefficients:')\n",
        "print(model.coef_)\n",
        "\n",
        "print('')\n",
        "\n",
        "# Test model\n",
        "y_model = model.predict(Xtest)\n",
        "\n",
        "# Assess accuracy\n",
        "print('MSE:')\n",
        "print(mean_squared_error(ytest, y_model))"
      ],
      "execution_count": null,
      "outputs": [
        {
          "output_type": "stream",
          "name": "stdout",
          "text": [
            "Xtrain, Xtest, ytrain, ytest:\n",
            "(318, 9) (80, 9) (318,) (80,)\n",
            "\n",
            "Model coefficients:\n",
            "[-0.16373048  0.01958399 -0.01334457 -0.00707275  0.07335016  0.82739747\n",
            " -1.86404853  1.07519552  0.78885302]\n",
            "\n",
            "MSE:\n",
            "8.339142500255893\n"
          ]
        }
      ]
    }
  ]
}