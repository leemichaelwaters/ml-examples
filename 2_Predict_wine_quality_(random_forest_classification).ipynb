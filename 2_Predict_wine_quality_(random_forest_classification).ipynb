{
  "nbformat": 4,
  "nbformat_minor": 0,
  "metadata": {
    "colab": {
      "name": "2. Predict wine quality (random forest classification)",
      "provenance": [],
      "collapsed_sections": [
        "wYJs40MLM3eI"
      ],
      "authorship_tag": "ABX9TyNvY07gbM6agtjonjP3QfnG",
      "include_colab_link": true
    },
    "kernelspec": {
      "name": "python3",
      "display_name": "Python 3"
    }
  },
  "cells": [
    {
      "cell_type": "markdown",
      "metadata": {
        "id": "view-in-github",
        "colab_type": "text"
      },
      "source": [
        "<a href=\"https://colab.research.google.com/github/leemichaelwaters/ml-examples/blob/main/2_Predict_wine_quality_(random_forest_classification).ipynb\" target=\"_parent\"><img src=\"https://colab.research.google.com/assets/colab-badge.svg\" alt=\"Open In Colab\"/></a>"
      ]
    },
    {
      "cell_type": "markdown",
      "source": [
        "# Summary\n",
        "- Import wine data\n",
        "  - 11 features and label assessing quality 0-10\n",
        "- EDA performed but no data quality issues\n",
        "- Data split into training (80%) and testing (20%) sets\n",
        "- Random forest classifier defined with 300 trees\n",
        "- Model is validated with 5-fold CV and mean accuracy around 69%\n",
        "- Gridsearch performed to optimize n_estimators\n",
        "- Model re-fit with best parameters (1000 trees)\n",
        "- Model used to generate predictions on test data\n",
        "- Accuracy of predictions determined to be 65%\n"
      ],
      "metadata": {
        "id": "wYJs40MLM3eI"
      }
    },
    {
      "cell_type": "markdown",
      "source": [
        "# Import data"
      ],
      "metadata": {
        "id": "aCMIcB5NE4cC"
      }
    },
    {
      "cell_type": "code",
      "metadata": {
        "id": "7p8Rm9di5g2Z"
      },
      "source": [
        "import pandas as pd\n",
        "\n",
        "url = 'http://archive.ics.uci.edu/ml/machine-learning-databases/wine-quality/winequality-red.csv'\n",
        "wine = pd.read_csv(url, sep=';')"
      ],
      "execution_count": null,
      "outputs": []
    },
    {
      "cell_type": "markdown",
      "source": [
        "# Exploratory data analysis"
      ],
      "metadata": {
        "id": "oKJjnIvOFF5X"
      }
    },
    {
      "cell_type": "code",
      "source": [
        "print('Head:')\n",
        "print(wine.head())\n",
        "\n",
        "print('')\n",
        "\n",
        "print('Info:')\n",
        "print(wine.info())\n",
        "\n",
        "print('')\n",
        "\n",
        "print('Shape:')\n",
        "print(wine.shape)"
      ],
      "metadata": {
        "colab": {
          "base_uri": "https://localhost:8080/"
        },
        "id": "BpShsbW6FL53",
        "outputId": "f16eeeb3-8cd8-4c76-af5b-4b39ee2c6cc5"
      },
      "execution_count": null,
      "outputs": [
        {
          "output_type": "stream",
          "name": "stdout",
          "text": [
            "Head:\n",
            "   fixed acidity  volatile acidity  citric acid  residual sugar  chlorides  \\\n",
            "0            7.4              0.70         0.00             1.9      0.076   \n",
            "1            7.8              0.88         0.00             2.6      0.098   \n",
            "2            7.8              0.76         0.04             2.3      0.092   \n",
            "3           11.2              0.28         0.56             1.9      0.075   \n",
            "4            7.4              0.70         0.00             1.9      0.076   \n",
            "\n",
            "   free sulfur dioxide  total sulfur dioxide  density    pH  sulphates  \\\n",
            "0                 11.0                  34.0   0.9978  3.51       0.56   \n",
            "1                 25.0                  67.0   0.9968  3.20       0.68   \n",
            "2                 15.0                  54.0   0.9970  3.26       0.65   \n",
            "3                 17.0                  60.0   0.9980  3.16       0.58   \n",
            "4                 11.0                  34.0   0.9978  3.51       0.56   \n",
            "\n",
            "   alcohol  quality  \n",
            "0      9.4        5  \n",
            "1      9.8        5  \n",
            "2      9.8        5  \n",
            "3      9.8        6  \n",
            "4      9.4        5  \n",
            "\n",
            "Info:\n",
            "<class 'pandas.core.frame.DataFrame'>\n",
            "RangeIndex: 1599 entries, 0 to 1598\n",
            "Data columns (total 12 columns):\n",
            " #   Column                Non-Null Count  Dtype  \n",
            "---  ------                --------------  -----  \n",
            " 0   fixed acidity         1599 non-null   float64\n",
            " 1   volatile acidity      1599 non-null   float64\n",
            " 2   citric acid           1599 non-null   float64\n",
            " 3   residual sugar        1599 non-null   float64\n",
            " 4   chlorides             1599 non-null   float64\n",
            " 5   free sulfur dioxide   1599 non-null   float64\n",
            " 6   total sulfur dioxide  1599 non-null   float64\n",
            " 7   density               1599 non-null   float64\n",
            " 8   pH                    1599 non-null   float64\n",
            " 9   sulphates             1599 non-null   float64\n",
            " 10  alcohol               1599 non-null   float64\n",
            " 11  quality               1599 non-null   int64  \n",
            "dtypes: float64(11), int64(1)\n",
            "memory usage: 150.0 KB\n",
            "None\n",
            "\n",
            "Shape:\n",
            "(1599, 12)\n"
          ]
        }
      ]
    },
    {
      "cell_type": "markdown",
      "source": [
        "# Train and test model"
      ],
      "metadata": {
        "id": "_npaE-H-FrBW"
      }
    },
    {
      "cell_type": "code",
      "metadata": {
        "id": "-KZNZf436XhF",
        "colab": {
          "base_uri": "https://localhost:8080/"
        },
        "outputId": "13f7a521-0afe-4d35-b185-4f3547839c22"
      },
      "source": [
        "# Import packages\n",
        "from sklearn.model_selection import train_test_split\n",
        "\n",
        "# Define features/labels\n",
        "X = wine.drop(columns='quality')\n",
        "y = wine['quality']\n",
        "\n",
        "# Train/test split\n",
        "Xtrain, Xtest, ytrain, ytest = train_test_split(X, y, random_state=42, test_size=.2)\n",
        "\n",
        "print('Xtrain, Xtest, ytrain, ytest:')\n",
        "print(Xtrain.shape, Xtest.shape, ytrain.shape, ytest.shape)"
      ],
      "execution_count": null,
      "outputs": [
        {
          "output_type": "stream",
          "name": "stdout",
          "text": [
            "Xtrain, Xtest, ytrain, ytest:\n",
            "(1279, 11) (320, 11) (1279,) (320,)\n"
          ]
        }
      ]
    },
    {
      "cell_type": "code",
      "metadata": {
        "colab": {
          "base_uri": "https://localhost:8080/"
        },
        "id": "7ZpFZh6cAIEQ",
        "outputId": "12984f34-126a-4afa-e188-6cce931ed2d6"
      },
      "source": [
        "# Train model\n",
        "\n",
        "# Define packages\n",
        "from sklearn.ensemble import RandomForestClassifier\n",
        "from sklearn.model_selection import cross_val_score\n",
        "import numpy as np\n",
        "\n",
        "# Define model\n",
        "model = RandomForestClassifier(n_estimators=300)                                # n_estimators is num trees\n",
        "\n",
        "# K-fold cv\n",
        "scores = cross_val_score(model, Xtrain, ytrain, cv=5)\n",
        "\n",
        "print('Scores:')\n",
        "print(scores)\n",
        "\n",
        "print('')\n",
        "\n",
        "print('Mean scores:')\n",
        "print(np.mean(scores))\n",
        "\n",
        "print('')\n",
        "\n",
        "print('SD scores:')\n",
        "print(np.std(scores))"
      ],
      "execution_count": null,
      "outputs": [
        {
          "output_type": "stream",
          "name": "stdout",
          "text": [
            "Scores:\n",
            "[0.67578125 0.68359375 0.66015625 0.6953125  0.76078431]\n",
            "\n",
            "Mean scores:\n",
            "0.695125612745098\n",
            "\n",
            "SD scores:\n",
            "0.03475958716803915\n"
          ]
        }
      ]
    },
    {
      "cell_type": "code",
      "metadata": {
        "colab": {
          "base_uri": "https://localhost:8080/"
        },
        "id": "oabRWhVY_kFs",
        "outputId": "501a988f-9d95-4e3f-bfd7-1441803088b6"
      },
      "source": [
        "# Perform gridsearch\n",
        "\n",
        "# Import packages\n",
        "from sklearn.model_selection import GridSearchCV\n",
        "\n",
        "# Define grid\n",
        "param_grid = {'n_estimators': [100, 300, 500, 800, 1000]}\n",
        "\n",
        "# Define model\n",
        "grid = GridSearchCV(RandomForestClassifier(), param_grid, cv=5)\n",
        "\n",
        "# Fit model\n",
        "grid.fit(Xtrain, ytrain)\n",
        "\n",
        "print('Best params:')\n",
        "print(grid.best_params_)"
      ],
      "execution_count": null,
      "outputs": [
        {
          "output_type": "stream",
          "name": "stdout",
          "text": [
            "Best params:\n",
            "{'n_estimators': 500}\n"
          ]
        }
      ]
    },
    {
      "cell_type": "code",
      "metadata": {
        "colab": {
          "base_uri": "https://localhost:8080/"
        },
        "id": "PQrgF8kk6mVn",
        "outputId": "9f7b614b-15d8-42f5-c23d-c8f30f5dc5df"
      },
      "source": [
        "# Assess test accuracy\n",
        "\n",
        "# Import packages\n",
        "from sklearn.metrics import accuracy_score\n",
        "\n",
        "# Define model\n",
        "model = grid.best_estimator_\n",
        "\n",
        "# Generate predictions\n",
        "y_model = model.predict(Xtest)\n",
        "\n",
        "print('Accuracy:')\n",
        "print(accuracy_score(ytest, y_model))"
      ],
      "execution_count": null,
      "outputs": [
        {
          "output_type": "stream",
          "name": "stdout",
          "text": [
            "Accuracy:\n",
            "0.653125\n"
          ]
        }
      ]
    }
  ]
}